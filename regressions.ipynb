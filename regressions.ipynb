{
 "cells": [
  {
   "cell_type": "code",
   "execution_count": 1,
   "id": "d3ba8cf7",
   "metadata": {},
   "outputs": [],
   "source": [
    "import numpy as np, pandas as pd\n",
    "import os, re\n",
    "from sklearn.linear_model import LinearRegression, LogisticRegression\n",
    "from sklearn.linear_model import ElasticNet\n",
    "from rdkit import Chem\n",
    "from matplotlib import pyplot as plt"
   ]
  },
  {
   "cell_type": "code",
   "execution_count": 69,
   "id": "d122c49e-e331-4b2a-ade2-2a9ac219dc4c",
   "metadata": {},
   "outputs": [],
   "source": [
    "from scripts.utils import dictEndpoint"
   ]
  },
  {
   "cell_type": "code",
   "execution_count": 3,
   "id": "28822200-9419-4182-af0b-993117fd4a6e",
   "metadata": {},
   "outputs": [],
   "source": [
    "def dropZeroColumns(df):\n",
    "    mask=(df != 0).any(axis=0)\n",
    "    return df.loc[:,mask]"
   ]
  },
  {
   "cell_type": "code",
   "execution_count": 3,
   "id": "efc9c57c-95ca-4017-bf39-c3264af63382",
   "metadata": {},
   "outputs": [],
   "source": [
    "allEmbeddings = [data for data in  os.listdir(\"embeddings\") if not data.startswith(\".\") and not \"epoch0\" in data]\n",
    "allFP=[data for data in  os.listdir(\"FPs\") if not data.startswith(\".\")]\n",
    "allData = [data for data in  os.listdir(\"data\") if not data.startswith(\".\") and \".csv\" in data]"
   ]
  },
  {
   "cell_type": "code",
   "execution_count": 4,
   "id": "f2b80ece-ef20-404e-972a-91e7200cb830",
   "metadata": {},
   "outputs": [],
   "source": [
    "patternNames = '^(?P<name>[a-zA-Z]+)_[a-zA-Z]+\\.(?P<format>[a-zA-Z]+)$'\n",
    "compiler = re.compile(patternNames)"
   ]
  },
  {
   "cell_type": "code",
   "execution_count": 7,
   "id": "79d9a0a3-b156-439f-a88b-178d0d527659",
   "metadata": {},
   "outputs": [],
   "source": [
    "idxDir = \"intraDomainIdxs\"\n",
    "idxs = { endpoint : np.loadtxt(f\"{idxDir}/{endpoint}_idxs.txt\", dtype=int)\n",
    "             for endpoint in dictEndpoint }"
   ]
  },
  {
   "cell_type": "code",
   "execution_count": 12,
   "id": "856175c6-5327-454c-b071-a47deebd3bab",
   "metadata": {},
   "outputs": [],
   "source": [
    "## y = embeddings; shape = N mols\n",
    "embeddingDir = \"embeddings\"\n",
    "Ys = {endpoint: pd.read_csv(f\"{embeddingDir}/{endpoint}_embedding.csv\", names=[\"y1\",\"y2\"], header=0)\n",
    "        for endpoint in dictEndpoint\n",
    "}"
   ]
  },
  {
   "cell_type": "code",
   "execution_count": 14,
   "id": "1a4ff9ec-ca63-4054-b4ba-754b3a9498af",
   "metadata": {},
   "outputs": [],
   "source": [
    "## x = bit of FP; shape = ...\n",
    "fpDir = \"FPs\"\n",
    "Xs = {endpoint: dropZeroColumns(pd.read_csv(f\"{fpDir}/{endpoint}_FP.csv\", header=None).iloc[idxs[endpoint]])\n",
    "    for endpoint in dictEndpoint\n",
    "}"
   ]
  },
  {
   "cell_type": "code",
   "execution_count": 15,
   "id": "b6953a95-4224-4118-a431-d2c9f1eb1e15",
   "metadata": {},
   "outputs": [],
   "source": [
    "dataDir = \"data\"\n",
    "data = {endpoint: pd.read_csv(f\"{dataDir}/{endpoint}_dataset.csv\").iloc[idxs[endpoint]]\n",
    "        for endpoint in dictEndpoint\n",
    "}"
   ]
  },
  {
   "cell_type": "code",
   "execution_count": 16,
   "id": "163e64bc-6f32-4f1f-9723-9f325273e863",
   "metadata": {},
   "outputs": [],
   "source": [
    "smis ={k:v[\"SMILES\"] for k,v in data.items() }\n",
    "labels = {k:v[\"Label\"] for k,v in data.items() }"
   ]
  },
  {
   "cell_type": "code",
   "execution_count": 17,
   "id": "c68f7549-f25e-47a7-b2fc-64f51d96d497",
   "metadata": {},
   "outputs": [
    {
     "data": {
      "text/plain": [
       "Label\n",
       "1    282\n",
       "0    254\n",
       "Name: count, dtype: int64"
      ]
     },
     "execution_count": 17,
     "metadata": {},
     "output_type": "execute_result"
    }
   ],
   "source": [
    "labels[\"hepa\"].value_counts()"
   ]
  },
  {
   "cell_type": "code",
   "execution_count": 18,
   "id": "7d6aee45-4e29-4d76-8568-5096f123841a",
   "metadata": {},
   "outputs": [],
   "source": [
    "sizes = {endpoint:len(df) for endpoint,df in Ys.items() }"
   ]
  },
  {
   "cell_type": "code",
   "execution_count": 19,
   "id": "530c292f-bd64-4e06-ac5b-e53094c1a80e",
   "metadata": {},
   "outputs": [
    {
     "data": {
      "text/plain": [
       "{'devtox': 584,\n",
       " 'carcino': 642,\n",
       " 'andro': 1417,\n",
       " 'estro': 1292,\n",
       " 'muta': 540,\n",
       " 'skin': 235,\n",
       " 'chrom': 387,\n",
       " 'hepa': 536}"
      ]
     },
     "execution_count": 19,
     "metadata": {},
     "output_type": "execute_result"
    }
   ],
   "source": [
    "sizes"
   ]
  },
  {
   "cell_type": "markdown",
   "id": "54c100c2",
   "metadata": {},
   "source": [
    "## Linear Regression"
   ]
  },
  {
   "cell_type": "code",
   "execution_count": 22,
   "id": "e98fc09e-2d76-4baf-9e90-70d9915aa3d0",
   "metadata": {},
   "outputs": [],
   "source": [
    "from sklearn.linear_model import Lasso"
   ]
  },
  {
   "cell_type": "code",
   "execution_count": 23,
   "id": "75706e93-f545-4734-8172-fd8a78578867",
   "metadata": {},
   "outputs": [],
   "source": [
    "def linearFitToYandCoeff(x,y, regressor):\n",
    "    regressor.fit(x,y)\n",
    "    yPred=regressor.predict(x)\n",
    "    return yPred, regressor.coef_"
   ]
  },
  {
   "cell_type": "code",
   "execution_count": 24,
   "id": "825839ba-5494-476d-860a-6bd11ceae168",
   "metadata": {
    "collapsed": true,
    "jupyter": {
     "outputs_hidden": true
    }
   },
   "outputs": [
    {
     "name": "stderr",
     "output_type": "stream",
     "text": [
      "/home/tox/.local/lib/python3.11/site-packages/sklearn/linear_model/_coordinate_descent.py:678: ConvergenceWarning: Objective did not converge. You might want to increase the number of iterations, check the scale of the features or consider increasing regularisation. Duality gap: 1.269e+00, tolerance: 2.337e-02\n",
      "  model = cd_fast.enet_coordinate_descent(\n",
      "/home/tox/.local/lib/python3.11/site-packages/sklearn/linear_model/_coordinate_descent.py:678: ConvergenceWarning: Objective did not converge. You might want to increase the number of iterations, check the scale of the features or consider increasing regularisation. Duality gap: 1.357e+00, tolerance: 2.220e-02\n",
      "  model = cd_fast.enet_coordinate_descent(\n",
      "/home/tox/.local/lib/python3.11/site-packages/sklearn/linear_model/_coordinate_descent.py:678: ConvergenceWarning: Objective did not converge. You might want to increase the number of iterations, check the scale of the features or consider increasing regularisation. Duality gap: 3.577e-01, tolerance: 4.457e-02\n",
      "  model = cd_fast.enet_coordinate_descent(\n",
      "/home/tox/.local/lib/python3.11/site-packages/sklearn/linear_model/_coordinate_descent.py:678: ConvergenceWarning: Objective did not converge. You might want to increase the number of iterations, check the scale of the features or consider increasing regularisation. Duality gap: 1.968e-01, tolerance: 4.300e-02\n",
      "  model = cd_fast.enet_coordinate_descent(\n",
      "/home/tox/.local/lib/python3.11/site-packages/sklearn/linear_model/_coordinate_descent.py:678: ConvergenceWarning: Objective did not converge. You might want to increase the number of iterations, check the scale of the features or consider increasing regularisation. Duality gap: 1.945e+00, tolerance: 3.920e-02\n",
      "  model = cd_fast.enet_coordinate_descent(\n",
      "/home/tox/.local/lib/python3.11/site-packages/sklearn/linear_model/_coordinate_descent.py:678: ConvergenceWarning: Objective did not converge. You might want to increase the number of iterations, check the scale of the features or consider increasing regularisation. Duality gap: 1.341e+00, tolerance: 3.772e-02\n",
      "  model = cd_fast.enet_coordinate_descent(\n",
      "/home/tox/.local/lib/python3.11/site-packages/sklearn/linear_model/_coordinate_descent.py:678: ConvergenceWarning: Objective did not converge. You might want to increase the number of iterations, check the scale of the features or consider increasing regularisation. Duality gap: 1.088e+00, tolerance: 2.314e-02\n",
      "  model = cd_fast.enet_coordinate_descent(\n",
      "/home/tox/.local/lib/python3.11/site-packages/sklearn/linear_model/_coordinate_descent.py:678: ConvergenceWarning: Objective did not converge. You might want to increase the number of iterations, check the scale of the features or consider increasing regularisation. Duality gap: 6.732e-01, tolerance: 2.429e-02\n",
      "  model = cd_fast.enet_coordinate_descent(\n",
      "/home/tox/.local/lib/python3.11/site-packages/sklearn/linear_model/_coordinate_descent.py:678: ConvergenceWarning: Objective did not converge. You might want to increase the number of iterations, check the scale of the features or consider increasing regularisation. Duality gap: 2.080e+00, tolerance: 3.596e-02\n",
      "  model = cd_fast.enet_coordinate_descent(\n",
      "/home/tox/.local/lib/python3.11/site-packages/sklearn/linear_model/_coordinate_descent.py:678: ConvergenceWarning: Objective did not converge. You might want to increase the number of iterations, check the scale of the features or consider increasing regularisation. Duality gap: 1.019e+00, tolerance: 3.985e-02\n",
      "  model = cd_fast.enet_coordinate_descent(\n",
      "/home/tox/.local/lib/python3.11/site-packages/sklearn/linear_model/_coordinate_descent.py:678: ConvergenceWarning: Objective did not converge. You might want to increase the number of iterations, check the scale of the features or consider increasing regularisation. Duality gap: 6.693e-01, tolerance: 2.363e-02\n",
      "  model = cd_fast.enet_coordinate_descent(\n",
      "/home/tox/.local/lib/python3.11/site-packages/sklearn/linear_model/_coordinate_descent.py:678: ConvergenceWarning: Objective did not converge. You might want to increase the number of iterations, check the scale of the features or consider increasing regularisation. Duality gap: 8.149e-01, tolerance: 2.612e-02\n",
      "  model = cd_fast.enet_coordinate_descent(\n",
      "/home/tox/.local/lib/python3.11/site-packages/sklearn/linear_model/_coordinate_descent.py:678: ConvergenceWarning: Objective did not converge. You might want to increase the number of iterations, check the scale of the features or consider increasing regularisation. Duality gap: 1.019e+00, tolerance: 2.544e-02\n",
      "  model = cd_fast.enet_coordinate_descent(\n",
      "/home/tox/.local/lib/python3.11/site-packages/sklearn/linear_model/_coordinate_descent.py:678: ConvergenceWarning: Objective did not converge. You might want to increase the number of iterations, check the scale of the features or consider increasing regularisation. Duality gap: 1.080e+00, tolerance: 2.880e-02\n",
      "  model = cd_fast.enet_coordinate_descent(\n"
     ]
    }
   ],
   "source": [
    "coeffs = {endpoint:pd.DataFrame(columns=[\"coef1\",\"coef2\"], index=range(bits.shape[1]))\n",
    "         for endpoint,bits in Xs.items()}\n",
    "for endpoint,x in Xs.items() :\n",
    "    Y = Ys[endpoint]\n",
    "\n",
    "    for num,y in enumerate(Y[[\"y1\",\"y2\"]].T.values):\n",
    "        yPred, coeff = linearFitToYandCoeff(x,y, regressor=Lasso(alpha=.001,)\n",
    "                                           )\n",
    "        \n",
    "        Ys[endpoint] = pd.concat(\n",
    "                            [Ys[endpoint],pd.DataFrame(yPred,columns=[\"y\"+str(num+1)+\"pred\"])],\n",
    "                                 axis=1, ignore_index=False)\n",
    "        coeffs[endpoint].iloc[:,num]=coeff"
   ]
  },
  {
   "cell_type": "code",
   "execution_count": 25,
   "id": "0324b1e8",
   "metadata": {},
   "outputs": [],
   "source": [
    "from sklearn.metrics import r2_score"
   ]
  },
  {
   "cell_type": "code",
   "execution_count": 26,
   "id": "5ab16d9e",
   "metadata": {},
   "outputs": [],
   "source": [
    "## r^2 goodness fit\n",
    "r2 = {\n",
    "    endpoint:[r2_score(\n",
    "                *Ys[endpoint][[f\"y{num}\",f\"y{num}pred\"]].T.values\n",
    "                    )  \n",
    "        for num in [\"1\",\"2\"] ]\n",
    "    for endpoint in Xs.keys()\n",
    "}"
   ]
  },
  {
   "cell_type": "code",
   "execution_count": 27,
   "id": "52f2f925-9d6f-4bfa-9e4d-3a0c2d63eb16",
   "metadata": {},
   "outputs": [
    {
     "data": {
      "text/plain": [
       "{'devtox': [0.9590722145560647, 0.9608567912220863],\n",
       " 'carcino': [0.952773868929239, 0.9526389909851898],\n",
       " 'andro': [0.941789984985847, 0.9371391828250313],\n",
       " 'estro': [0.8845320875308618, 0.9137788837522031],\n",
       " 'muta': [0.9566908802738266, 0.9534536607986412],\n",
       " 'skin': [0.9726159595735873, 0.9725353782966534],\n",
       " 'chrom': [0.9731747456744947, 0.9750529670792314],\n",
       " 'hepa': [0.9853466709140276, 0.9860064680553636]}"
      ]
     },
     "execution_count": 27,
     "metadata": {},
     "output_type": "execute_result"
    }
   ],
   "source": [
    "r2"
   ]
  },
  {
   "cell_type": "code",
   "execution_count": 28,
   "id": "456bccf9",
   "metadata": {},
   "outputs": [],
   "source": [
    "## statistical test\n",
    "from scipy import stats"
   ]
  },
  {
   "cell_type": "code",
   "execution_count": 29,
   "id": "00af7295",
   "metadata": {},
   "outputs": [],
   "source": [
    "pvals={\n",
    "    endpoint:stats.spearmanr(\n",
    "                *coeffs[endpoint].abs().T.astype(float).values, alternative=\"greater\"\n",
    "                    )\n",
    "    for endpoint in Xs.keys()\n",
    "}"
   ]
  },
  {
   "cell_type": "code",
   "execution_count": 30,
   "id": "7783e632-aebb-465f-b292-46659e6d2486",
   "metadata": {},
   "outputs": [
    {
     "data": {
      "text/plain": [
       "{'devtox': SignificanceResult(statistic=0.8593642457605024, pvalue=0.0),\n",
       " 'carcino': SignificanceResult(statistic=0.8757733536092475, pvalue=0.0),\n",
       " 'andro': SignificanceResult(statistic=0.8778683765851595, pvalue=0.0),\n",
       " 'estro': SignificanceResult(statistic=0.703148724421134, pvalue=1.1935422761823206e-305),\n",
       " 'muta': SignificanceResult(statistic=0.4607667797331474, pvalue=1.798399830014433e-108),\n",
       " 'skin': SignificanceResult(statistic=0.7524692824552881, pvalue=0.0),\n",
       " 'chrom': SignificanceResult(statistic=0.8023349512713872, pvalue=0.0),\n",
       " 'hepa': SignificanceResult(statistic=0.6886717045876334, pvalue=2.8089580839427363e-288)}"
      ]
     },
     "execution_count": 30,
     "metadata": {},
     "output_type": "execute_result"
    }
   ],
   "source": [
    "pvals"
   ]
  },
  {
   "cell_type": "code",
   "execution_count": 74,
   "id": "7aaf7f04-acd0-4a6b-b25b-204a63a93069",
   "metadata": {},
   "outputs": [],
   "source": [
    "resultsR2scores=pd.DataFrame.from_dict(\n",
    "    {nameEndpoint:r2[endpoint] for endpoint,nameEndpoint in dictEndpoint.items()}, orient='index',\n",
    "    columns=[\"r$^2$ embedding 1\",\"r$^2$ embedding 2\"]\n",
    ").round(2)\n",
    "resultsR2scores.index.name=\"Endpoint\""
   ]
  },
  {
   "cell_type": "code",
   "execution_count": 75,
   "id": "dee6fb91-49ee-463d-91f6-4822855f686a",
   "metadata": {},
   "outputs": [
    {
     "data": {
      "text/html": [
       "<div>\n",
       "<style scoped>\n",
       "    .dataframe tbody tr th:only-of-type {\n",
       "        vertical-align: middle;\n",
       "    }\n",
       "\n",
       "    .dataframe tbody tr th {\n",
       "        vertical-align: top;\n",
       "    }\n",
       "\n",
       "    .dataframe thead th {\n",
       "        text-align: right;\n",
       "    }\n",
       "</style>\n",
       "<table border=\"1\" class=\"dataframe\">\n",
       "  <thead>\n",
       "    <tr style=\"text-align: right;\">\n",
       "      <th></th>\n",
       "      <th>r$^2$ embedding 1</th>\n",
       "      <th>r$^2$ embedding 2</th>\n",
       "    </tr>\n",
       "    <tr>\n",
       "      <th>Endpoint</th>\n",
       "      <th></th>\n",
       "      <th></th>\n",
       "    </tr>\n",
       "  </thead>\n",
       "  <tbody>\n",
       "    <tr>\n",
       "      <th>Chromosomal aberration</th>\n",
       "      <td>0.97</td>\n",
       "      <td>0.98</td>\n",
       "    </tr>\n",
       "    <tr>\n",
       "      <th>Mutagenicity</th>\n",
       "      <td>0.96</td>\n",
       "      <td>0.95</td>\n",
       "    </tr>\n",
       "    <tr>\n",
       "      <th>Carcinogenicity</th>\n",
       "      <td>0.95</td>\n",
       "      <td>0.95</td>\n",
       "    </tr>\n",
       "    <tr>\n",
       "      <th>Developmental toxicity</th>\n",
       "      <td>0.96</td>\n",
       "      <td>0.96</td>\n",
       "    </tr>\n",
       "    <tr>\n",
       "      <th>Skin irritation</th>\n",
       "      <td>0.97</td>\n",
       "      <td>0.97</td>\n",
       "    </tr>\n",
       "    <tr>\n",
       "      <th>Estrogenicity</th>\n",
       "      <td>0.88</td>\n",
       "      <td>0.91</td>\n",
       "    </tr>\n",
       "    <tr>\n",
       "      <th>Androgenicity</th>\n",
       "      <td>0.94</td>\n",
       "      <td>0.94</td>\n",
       "    </tr>\n",
       "    <tr>\n",
       "      <th>Hepatoxicity</th>\n",
       "      <td>0.99</td>\n",
       "      <td>0.99</td>\n",
       "    </tr>\n",
       "  </tbody>\n",
       "</table>\n",
       "</div>"
      ],
      "text/plain": [
       "                        r$^2$ embedding 1  r$^2$ embedding 2\n",
       "Endpoint                                                    \n",
       "Chromosomal aberration               0.97               0.98\n",
       "Mutagenicity                         0.96               0.95\n",
       "Carcinogenicity                      0.95               0.95\n",
       "Developmental toxicity               0.96               0.96\n",
       "Skin irritation                      0.97               0.97\n",
       "Estrogenicity                        0.88               0.91\n",
       "Androgenicity                        0.94               0.94\n",
       "Hepatoxicity                         0.99               0.99"
      ]
     },
     "execution_count": 75,
     "metadata": {},
     "output_type": "execute_result"
    }
   ],
   "source": [
    "resultsR2scores"
   ]
  },
  {
   "cell_type": "raw",
   "id": "af76b91c-e33f-47af-9826-22ec64bc3a83",
   "metadata": {},
   "source": [
    "resultsR2scores.to_csv(\"Tables/r2scores.csv\")"
   ]
  },
  {
   "cell_type": "code",
   "execution_count": 37,
   "id": "b77f9d67-0b2f-4f74-be22-53b6e61c3d0f",
   "metadata": {},
   "outputs": [],
   "source": [
    "idxsAbsSorted = {\n",
    "    endpoint:\n",
    "    np.argsort(coef[\"coef1\"].abs().to_numpy(copy=True))[::-1]\n",
    "    for endpoint,coef in coeffs.items()\n",
    "}\n",
    "\n",
    "idxsSorted = {\n",
    "    endpoint:\n",
    "    np.argsort(coef[\"coef1\"].to_numpy(copy=True))[::-1]\n",
    "    for endpoint,coef in coeffs.items()\n",
    "}"
   ]
  },
  {
   "cell_type": "code",
   "execution_count": 38,
   "id": "96a0ad2d-cc0d-419c-8200-9a7b8092b1c4",
   "metadata": {},
   "outputs": [
    {
     "data": {
      "text/plain": [
       "<matplotlib.collections.PathCollection at 0x7fb27840fdd0>"
      ]
     },
     "execution_count": 38,
     "metadata": {},
     "output_type": "execute_result"
    },
    {
     "data": {
      "image/png": "[encoded data removed]",
      "text/plain": [
       "<Figure size 640x480 with 1 Axes>"
      ]
     },
     "metadata": {},
     "output_type": "display_data"
    }
   ],
   "source": [
    "tmpEnd = \"devtox\"\n",
    "tmpLab = labels[tmpEnd]\n",
    "colors = tmpLab.apply(lambda x: \"red\" if x==1 else \"green\")\n",
    "plt.scatter(*Ys[tmpEnd][[\"y1\",\"y2\"]].values.T, c=colors)"
   ]
  },
  {
   "cell_type": "code",
   "execution_count": 40,
   "id": "6713bf44-cccc-40ef-babe-ba52bec662b5",
   "metadata": {},
   "outputs": [],
   "source": [
    "# In figure x axis = y1 so \"coef1\" sign for each endpoint follows toxicity or non toxicity\n",
    "toxSign = {\n",
    "    \"carcino\":-1, \"devtox\":+1, \"hepa\":+1, \"skin\":+1, \"chrom\":+1, \"andro\":-1, \"muta\":-1, \"estro\":+1,\n",
    "}"
   ]
  },
  {
   "cell_type": "code",
   "execution_count": 41,
   "id": "4cdc7f21-5f69-423b-bcee-61d664e8db1e",
   "metadata": {},
   "outputs": [],
   "source": [
    "bitsSorted = {endpoint:\n",
    "    Xs[endpoint].columns.to_numpy(copy=True)[idxs]\\\n",
    "    if toxSign[endpoint]>0 else\\\n",
    "    Xs[endpoint].columns.to_numpy(copy=True)[idxs][::-1]\n",
    "    for endpoint, idxs in idxsSorted.items()\n",
    "}"
   ]
  },
  {
   "cell_type": "code",
   "execution_count": 49,
   "id": "d11e84cd-5482-47ef-9fd5-4805a6eeaa29",
   "metadata": {},
   "outputs": [
    {
     "data": {
      "text/plain": [
       "{'devtox': array([1542,  136,  940, ...,  563,  194,  101]),\n",
       " 'carcino': array([1883,  429, 1072, ...,  240, 1363,  827]),\n",
       " 'andro': array([1597,  776, 1267, ...,  744,  681, 1253]),\n",
       " 'estro': array([1103,  905, 1342, ..., 1855, 1025, 1433]),\n",
       " 'muta': array([1154, 1883,  283, ...,  384,  817, 1907]),\n",
       " 'skin': array([1727,   20, 1185, ...,  311,  499,  976]),\n",
       " 'chrom': array([2031, 1903, 1523, ..., 1122, 1370, 1622]),\n",
       " 'hepa': array([1587, 1795, 1142, ..., 1119, 1231, 1105])}"
      ]
     },
     "execution_count": 49,
     "metadata": {},
     "output_type": "execute_result"
    }
   ],
   "source": [
    "bitsSorted"
   ]
  },
  {
   "cell_type": "code",
   "execution_count": 56,
   "id": "6ef4213c-a46b-4de0-a4b3-f941e4d836be",
   "metadata": {},
   "outputs": [],
   "source": [
    "tableBits = pd.concat([\n",
    "    pd.DataFrame( df, columns=[dictEndpoint[endpoint]] )\n",
    "for endpoint,df in bitsSorted.items() ], ignore_index=False, axis=1)"
   ]
  },
  {
   "cell_type": "raw",
   "id": "171c7757-044d-4d67-8feb-cfa73efe7202",
   "metadata": {},
   "source": [
    "tableBits.to_csv(\"Tables/bitsImportance.csv\", index=False)"
   ]
  },
  {
   "cell_type": "markdown",
   "id": "910e63e1-d11d-4ae5-bf5b-0d657b17d015",
   "metadata": {},
   "source": [
    "# rdkit bits vs relative frequency correlation"
   ]
  },
  {
   "cell_type": "markdown",
   "id": "83039142-5574-4742-8beb-cbddef16d545",
   "metadata": {},
   "source": [
    "## Bit prediction"
   ]
  },
  {
   "cell_type": "code",
   "execution_count": 42,
   "id": "5a3a1e5c-1b18-43db-b038-536fc5a946d4",
   "metadata": {},
   "outputs": [],
   "source": [
    "def predictBit(endpoint, idx, type: int):\n",
    "\n",
    "    xEnd = Xs[endpoint]\n",
    "    mask0 = labels[endpoint]==0\n",
    "    mask1 = labels[endpoint]==1\n",
    "\n",
    "    if type == 1:\n",
    "        countNoTox_1=xEnd[mask0][idx].sum() # bit presente nelle molecole non tossiche\n",
    "        countTox_1=xEnd[mask1][idx].sum() # bit presente nelle molecole tossiche\n",
    "    \n",
    "        countW_NoTox_1=countNoTox_1*(mask1.sum()/sizes[endpoint])\n",
    "        countW_Tox_1=countTox_1*(mask0.sum()/sizes[endpoint])\n",
    "    \n",
    "        score = score_Tox_1 = countW_Tox_1/(countW_Tox_1+countW_NoTox_1)\n",
    "\n",
    "    \n",
    "    elif type == 0:\n",
    "\n",
    "        countNoTox_0 = (1-xEnd[mask0][idx] ).sum() # bit assente nelle molecole non tossiche\n",
    "        countTox_0 = (1-xEnd[mask1][idx] ).sum() # bit assente nelle molecole tossiche\n",
    "        \n",
    "        countW_NoTox_0=countNoTox_0*(mask1.sum()/sizes[endpoint])\n",
    "        countW_Tox_0=countTox_0*(mask0.sum()/sizes[endpoint])\n",
    "    \n",
    "        score = score_NoTox_0 = countW_NoTox_0/(countW_NoTox_0+countW_Tox_0)\n",
    "\n",
    "    return score"
   ]
  },
  {
   "cell_type": "code",
   "execution_count": 43,
   "id": "b7d05409-c669-407a-be6b-9ed9011a2dd9",
   "metadata": {},
   "outputs": [],
   "source": [
    "maxBitsToPred = 30\n",
    "scoresPresence={}\n",
    "scoresAbsence={}\n",
    "\n",
    "for endpoint, bits in bitsSorted.items():\n",
    "    scoresPresence[endpoint]=[  predictBit(endpoint, bit, 1) for bit in bits[:maxBitsToPred] ]\n",
    "    scoresAbsence[endpoint]=[  predictBit(endpoint, bit, 0) for bit in bits[:maxBitsToPred] ]\n",
    "\n",
    "scoresPresence=pd.DataFrame(scoresPresence)\n",
    "scoresAbsence=pd.DataFrame(scoresAbsence)"
   ]
  },
  {
   "cell_type": "raw",
   "id": "f07c88ab-c7e2-4ecd-a5b6-56ff4ab7403f",
   "metadata": {},
   "source": [
    "scoresAbsence.to_csv(\"Tables/scoreAbsence.csv\", index=False)\n",
    "scoresPresence.to_csv(\"Tables/scorePresence.csv\", index=False)"
   ]
  },
  {
   "cell_type": "code",
   "execution_count": 176,
   "id": "2760d2cc-fa70-489f-bd2f-dc17cffd6968",
   "metadata": {
    "collapsed": true,
    "jupyter": {
     "outputs_hidden": true
    }
   },
   "outputs": [
    {
     "data": {
      "text/html": [
       "<div>\n",
       "<style scoped>\n",
       "    .dataframe tbody tr th:only-of-type {\n",
       "        vertical-align: middle;\n",
       "    }\n",
       "\n",
       "    .dataframe tbody tr th {\n",
       "        vertical-align: top;\n",
       "    }\n",
       "\n",
       "    .dataframe thead th {\n",
       "        text-align: right;\n",
       "    }\n",
       "</style>\n",
       "<table border=\"1\" class=\"dataframe\">\n",
       "  <thead>\n",
       "    <tr style=\"text-align: right;\">\n",
       "      <th></th>\n",
       "      <th>devtox</th>\n",
       "      <th>carcino</th>\n",
       "      <th>muta</th>\n",
       "      <th>skin</th>\n",
       "      <th>andro</th>\n",
       "      <th>estro</th>\n",
       "      <th>chrom</th>\n",
       "      <th>hepa</th>\n",
       "    </tr>\n",
       "  </thead>\n",
       "  <tbody>\n",
       "    <tr>\n",
       "      <th>count</th>\n",
       "      <td>30.000000</td>\n",
       "      <td>30.000000</td>\n",
       "      <td>30.000000</td>\n",
       "      <td>30.000000</td>\n",
       "      <td>30.000000</td>\n",
       "      <td>30.000000</td>\n",
       "      <td>30.000000</td>\n",
       "      <td>30.000000</td>\n",
       "    </tr>\n",
       "    <tr>\n",
       "      <th>mean</th>\n",
       "      <td>0.474498</td>\n",
       "      <td>0.526441</td>\n",
       "      <td>0.513128</td>\n",
       "      <td>0.518444</td>\n",
       "      <td>0.575291</td>\n",
       "      <td>0.567577</td>\n",
       "      <td>0.522365</td>\n",
       "      <td>0.522113</td>\n",
       "    </tr>\n",
       "    <tr>\n",
       "      <th>std</th>\n",
       "      <td>0.050126</td>\n",
       "      <td>0.016477</td>\n",
       "      <td>0.030313</td>\n",
       "      <td>0.028193</td>\n",
       "      <td>0.034308</td>\n",
       "      <td>0.073305</td>\n",
       "      <td>0.021334</td>\n",
       "      <td>0.021159</td>\n",
       "    </tr>\n",
       "    <tr>\n",
       "      <th>min</th>\n",
       "      <td>0.359135</td>\n",
       "      <td>0.500941</td>\n",
       "      <td>0.459036</td>\n",
       "      <td>0.448776</td>\n",
       "      <td>0.523045</td>\n",
       "      <td>0.484481</td>\n",
       "      <td>0.480936</td>\n",
       "      <td>0.443442</td>\n",
       "    </tr>\n",
       "    <tr>\n",
       "      <th>25%</th>\n",
       "      <td>0.443284</td>\n",
       "      <td>0.515269</td>\n",
       "      <td>0.497900</td>\n",
       "      <td>0.502518</td>\n",
       "      <td>0.544859</td>\n",
       "      <td>0.524657</td>\n",
       "      <td>0.510433</td>\n",
       "      <td>0.515482</td>\n",
       "    </tr>\n",
       "    <tr>\n",
       "      <th>50%</th>\n",
       "      <td>0.481334</td>\n",
       "      <td>0.522418</td>\n",
       "      <td>0.503466</td>\n",
       "      <td>0.510970</td>\n",
       "      <td>0.570382</td>\n",
       "      <td>0.552799</td>\n",
       "      <td>0.516694</td>\n",
       "      <td>0.526119</td>\n",
       "    </tr>\n",
       "    <tr>\n",
       "      <th>75%</th>\n",
       "      <td>0.515053</td>\n",
       "      <td>0.539586</td>\n",
       "      <td>0.518745</td>\n",
       "      <td>0.536658</td>\n",
       "      <td>0.597552</td>\n",
       "      <td>0.580127</td>\n",
       "      <td>0.527053</td>\n",
       "      <td>0.534728</td>\n",
       "    </tr>\n",
       "    <tr>\n",
       "      <th>max</th>\n",
       "      <td>0.544502</td>\n",
       "      <td>0.561363</td>\n",
       "      <td>0.611958</td>\n",
       "      <td>0.597484</td>\n",
       "      <td>0.666147</td>\n",
       "      <td>0.835598</td>\n",
       "      <td>0.586152</td>\n",
       "      <td>0.565751</td>\n",
       "    </tr>\n",
       "  </tbody>\n",
       "</table>\n",
       "</div>"
      ],
      "text/plain": [
       "          devtox    carcino       muta       skin      andro      estro  \\\n",
       "count  30.000000  30.000000  30.000000  30.000000  30.000000  30.000000   \n",
       "mean    0.474498   0.526441   0.513128   0.518444   0.575291   0.567577   \n",
       "std     0.050126   0.016477   0.030313   0.028193   0.034308   0.073305   \n",
       "min     0.359135   0.500941   0.459036   0.448776   0.523045   0.484481   \n",
       "25%     0.443284   0.515269   0.497900   0.502518   0.544859   0.524657   \n",
       "50%     0.481334   0.522418   0.503466   0.510970   0.570382   0.552799   \n",
       "75%     0.515053   0.539586   0.518745   0.536658   0.597552   0.580127   \n",
       "max     0.544502   0.561363   0.611958   0.597484   0.666147   0.835598   \n",
       "\n",
       "           chrom       hepa  \n",
       "count  30.000000  30.000000  \n",
       "mean    0.522365   0.522113  \n",
       "std     0.021334   0.021159  \n",
       "min     0.480936   0.443442  \n",
       "25%     0.510433   0.515482  \n",
       "50%     0.516694   0.526119  \n",
       "75%     0.527053   0.534728  \n",
       "max     0.586152   0.565751  "
      ]
     },
     "execution_count": 176,
     "metadata": {},
     "output_type": "execute_result"
    }
   ],
   "source": [
    "scoresAbsence.describe()"
   ]
  },
  {
   "cell_type": "code",
   "execution_count": 175,
   "id": "1df94961-1f72-49de-bcff-b7aab91b1970",
   "metadata": {
    "collapsed": true,
    "jupyter": {
     "outputs_hidden": true
    }
   },
   "outputs": [
    {
     "data": {
      "text/html": [
       "<div>\n",
       "<style scoped>\n",
       "    .dataframe tbody tr th:only-of-type {\n",
       "        vertical-align: middle;\n",
       "    }\n",
       "\n",
       "    .dataframe tbody tr th {\n",
       "        vertical-align: top;\n",
       "    }\n",
       "\n",
       "    .dataframe thead th {\n",
       "        text-align: right;\n",
       "    }\n",
       "</style>\n",
       "<table border=\"1\" class=\"dataframe\">\n",
       "  <thead>\n",
       "    <tr style=\"text-align: right;\">\n",
       "      <th></th>\n",
       "      <th>devtox</th>\n",
       "      <th>carcino</th>\n",
       "      <th>muta</th>\n",
       "      <th>skin</th>\n",
       "      <th>andro</th>\n",
       "      <th>estro</th>\n",
       "      <th>chrom</th>\n",
       "      <th>hepa</th>\n",
       "    </tr>\n",
       "  </thead>\n",
       "  <tbody>\n",
       "    <tr>\n",
       "      <th>count</th>\n",
       "      <td>30.000000</td>\n",
       "      <td>30.000000</td>\n",
       "      <td>30.000000</td>\n",
       "      <td>30.000000</td>\n",
       "      <td>30.000000</td>\n",
       "      <td>30.000000</td>\n",
       "      <td>30.000000</td>\n",
       "      <td>30.000000</td>\n",
       "    </tr>\n",
       "    <tr>\n",
       "      <th>mean</th>\n",
       "      <td>0.479194</td>\n",
       "      <td>0.634180</td>\n",
       "      <td>0.545347</td>\n",
       "      <td>0.613812</td>\n",
       "      <td>0.703283</td>\n",
       "      <td>0.644256</td>\n",
       "      <td>0.601504</td>\n",
       "      <td>0.536914</td>\n",
       "    </tr>\n",
       "    <tr>\n",
       "      <th>std</th>\n",
       "      <td>0.090886</td>\n",
       "      <td>0.083030</td>\n",
       "      <td>0.087460</td>\n",
       "      <td>0.134357</td>\n",
       "      <td>0.055597</td>\n",
       "      <td>0.089726</td>\n",
       "      <td>0.072404</td>\n",
       "      <td>0.027112</td>\n",
       "    </tr>\n",
       "    <tr>\n",
       "      <th>min</th>\n",
       "      <td>0.297033</td>\n",
       "      <td>0.506147</td>\n",
       "      <td>0.379187</td>\n",
       "      <td>0.321608</td>\n",
       "      <td>0.578444</td>\n",
       "      <td>0.436216</td>\n",
       "      <td>0.437121</td>\n",
       "      <td>0.478998</td>\n",
       "    </tr>\n",
       "    <tr>\n",
       "      <th>25%</th>\n",
       "      <td>0.411583</td>\n",
       "      <td>0.579104</td>\n",
       "      <td>0.490471</td>\n",
       "      <td>0.550631</td>\n",
       "      <td>0.670228</td>\n",
       "      <td>0.593407</td>\n",
       "      <td>0.556211</td>\n",
       "      <td>0.515275</td>\n",
       "    </tr>\n",
       "    <tr>\n",
       "      <th>50%</th>\n",
       "      <td>0.459315</td>\n",
       "      <td>0.629283</td>\n",
       "      <td>0.519246</td>\n",
       "      <td>0.605925</td>\n",
       "      <td>0.709838</td>\n",
       "      <td>0.652889</td>\n",
       "      <td>0.591109</td>\n",
       "      <td>0.539132</td>\n",
       "    </tr>\n",
       "    <tr>\n",
       "      <th>75%</th>\n",
       "      <td>0.533815</td>\n",
       "      <td>0.674680</td>\n",
       "      <td>0.625809</td>\n",
       "      <td>0.711327</td>\n",
       "      <td>0.742057</td>\n",
       "      <td>0.702802</td>\n",
       "      <td>0.636927</td>\n",
       "      <td>0.557904</td>\n",
       "    </tr>\n",
       "    <tr>\n",
       "      <th>max</th>\n",
       "      <td>0.705751</td>\n",
       "      <td>0.809295</td>\n",
       "      <td>0.734669</td>\n",
       "      <td>0.864865</td>\n",
       "      <td>0.797971</td>\n",
       "      <td>0.800675</td>\n",
       "      <td>0.736607</td>\n",
       "      <td>0.582211</td>\n",
       "    </tr>\n",
       "  </tbody>\n",
       "</table>\n",
       "</div>"
      ],
      "text/plain": [
       "          devtox    carcino       muta       skin      andro      estro  \\\n",
       "count  30.000000  30.000000  30.000000  30.000000  30.000000  30.000000   \n",
       "mean    0.479194   0.634180   0.545347   0.613812   0.703283   0.644256   \n",
       "std     0.090886   0.083030   0.087460   0.134357   0.055597   0.089726   \n",
       "min     0.297033   0.506147   0.379187   0.321608   0.578444   0.436216   \n",
       "25%     0.411583   0.579104   0.490471   0.550631   0.670228   0.593407   \n",
       "50%     0.459315   0.629283   0.519246   0.605925   0.709838   0.652889   \n",
       "75%     0.533815   0.674680   0.625809   0.711327   0.742057   0.702802   \n",
       "max     0.705751   0.809295   0.734669   0.864865   0.797971   0.800675   \n",
       "\n",
       "           chrom       hepa  \n",
       "count  30.000000  30.000000  \n",
       "mean    0.601504   0.536914  \n",
       "std     0.072404   0.027112  \n",
       "min     0.437121   0.478998  \n",
       "25%     0.556211   0.515275  \n",
       "50%     0.591109   0.539132  \n",
       "75%     0.636927   0.557904  \n",
       "max     0.736607   0.582211  "
      ]
     },
     "execution_count": 175,
     "metadata": {},
     "output_type": "execute_result"
    }
   ],
   "source": [
    "scoresPresence.describe()"
   ]
  },
  {
   "cell_type": "code",
   "execution_count": 168,
   "id": "2e6588ce-4eed-4d29-9ecb-73dbca6dd4a6",
   "metadata": {},
   "outputs": [],
   "source": [
    "predsAbsence=scoresAbsence.map(lambda x: 1 if x>=.5 else 0)\n",
    "predsPresence=scoresPresence.map(lambda x: 1 if x>=.5 else 0)"
   ]
  },
  {
   "cell_type": "code",
   "execution_count": 169,
   "id": "a4151f06-e086-44a4-8b0b-23d0266828f9",
   "metadata": {},
   "outputs": [],
   "source": [
    "metricPresence = predsPresence.mean(axis=0)\n",
    "metricAbsence = predsAbsence.mean(axis=0)"
   ]
  },
  {
   "cell_type": "code",
   "execution_count": 137,
   "id": "900afccf-e19f-46de-94c7-c54f819d62d7",
   "metadata": {
    "collapsed": true,
    "jupyter": {
     "outputs_hidden": true
    },
    "scrolled": true
   },
   "outputs": [
    {
     "name": "stdout",
     "output_type": "stream",
     "text": [
      "devtox Label\n",
      "1    498\n",
      "0     86\n",
      "Name: count, dtype: int64\n",
      "carcino Label\n",
      "0    404\n",
      "1    238\n",
      "Name: count, dtype: int64\n",
      "estro Label\n",
      "0    1210\n",
      "1      82\n",
      "Name: count, dtype: int64\n",
      "muta Label\n",
      "1    276\n",
      "0    264\n",
      "Name: count, dtype: int64\n",
      "andro Label\n",
      "0    1247\n",
      "1     170\n",
      "Name: count, dtype: int64\n",
      "skin Label\n",
      "0    160\n",
      "1     75\n",
      "Name: count, dtype: int64\n",
      "chrom Label\n",
      "0    210\n",
      "1    177\n",
      "Name: count, dtype: int64\n",
      "hepa Label\n",
      "1    282\n",
      "0    254\n",
      "Name: count, dtype: int64\n"
     ]
    }
   ],
   "source": [
    "for endpoint, df in labels.items():\n",
    "    print(endpoint, df.value_counts())"
   ]
  }
 ],
 "metadata": {
  "kernelspec": {
   "display_name": "Python 3 (ipykernel)",
   "language": "python",
   "name": "python3"
  },
  "language_info": {
   "codemirror_mode": {
    "name": "ipython",
    "version": 3
   },
   "file_extension": ".py",
   "mimetype": "text/x-python",
   "name": "python",
   "nbconvert_exporter": "python",
   "pygments_lexer": "ipython3",
   "version": "3.11.2"
  }
 },
 "nbformat": 4,
 "nbformat_minor": 5
}
